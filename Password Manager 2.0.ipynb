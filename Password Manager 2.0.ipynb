{
 "cells": [
  {
   "cell_type": "code",
   "execution_count": 13,
   "metadata": {},
   "outputs": [
    {
     "ename": "ImportError",
     "evalue": "cannot import name 'rsa' from 'Crypto.PublicKey' (C:\\Users\\Shanmuga\\Anaconda3\\lib\\site-packages\\Crypto\\PublicKey\\__init__.py)",
     "output_type": "error",
     "traceback": [
      "\u001b[1;31m---------------------------------------------------------------------------\u001b[0m",
      "\u001b[1;31mImportError\u001b[0m                               Traceback (most recent call last)",
      "\u001b[1;32m<ipython-input-13-4fa124fcdfd8>\u001b[0m in \u001b[0;36m<module>\u001b[1;34m\u001b[0m\n\u001b[0;32m      8\u001b[0m \u001b[1;32mfrom\u001b[0m \u001b[0mcryptography\u001b[0m\u001b[1;33m.\u001b[0m\u001b[0mhazmat\u001b[0m\u001b[1;33m.\u001b[0m\u001b[0mprimitives\u001b[0m\u001b[1;33m.\u001b[0m\u001b[0mkdf\u001b[0m\u001b[1;33m.\u001b[0m\u001b[0mpbkdf2\u001b[0m \u001b[1;32mimport\u001b[0m \u001b[0mPBKDF2HMAC\u001b[0m\u001b[1;33m\u001b[0m\u001b[1;33m\u001b[0m\u001b[0m\n\u001b[0;32m      9\u001b[0m \u001b[1;32mfrom\u001b[0m \u001b[0msecrets\u001b[0m \u001b[1;32mimport\u001b[0m \u001b[0mchoice\u001b[0m\u001b[1;33m\u001b[0m\u001b[1;33m\u001b[0m\u001b[0m\n\u001b[1;32m---> 10\u001b[1;33m \u001b[1;32mfrom\u001b[0m \u001b[0mCrypto\u001b[0m\u001b[1;33m.\u001b[0m\u001b[0mPublicKey\u001b[0m \u001b[1;32mimport\u001b[0m \u001b[0mrsa\u001b[0m\u001b[1;33m\u001b[0m\u001b[1;33m\u001b[0m\u001b[0m\n\u001b[0m",
      "\u001b[1;31mImportError\u001b[0m: cannot import name 'rsa' from 'Crypto.PublicKey' (C:\\Users\\Shanmuga\\Anaconda3\\lib\\site-packages\\Crypto\\PublicKey\\__init__.py)"
     ]
    }
   ],
   "source": [
    "import base64\n",
    "from cryptography.fernet import Fernet\n",
    "from cryptography.hazmat.backends import default_backend\n",
    "from cryptography.hazmat.primitives import hashes\n",
    "from cryptography.hazmat.primitives import serialization\n",
    "from cryptography.hazmat.primitives.asymmetric import rsa\n",
    "from cryptography.hazmat.primitives.asymmetric import padding\n",
    "from cryptography.hazmat.primitives.kdf.pbkdf2 import PBKDF2HMAC\n",
    "from secrets import choice\n",
    "from Crypto.PublicKey import RSA"
   ]
  },
  {
   "cell_type": "code",
   "execution_count": null,
   "metadata": {},
   "outputs": [],
   "source": []
  },
  {
   "cell_type": "code",
   "execution_count": 2,
   "metadata": {},
   "outputs": [],
   "source": [
    "l = ['a','b','c','d','e','f','g','h','i','j','k','l','m','n','o','p','q','r','s','t','u','v','w','x','y','z']\n",
    "\n",
    "u = ['A', 'B', 'C', 'D', 'E', 'F', 'G', 'H', 'I', 'J', 'K', 'L', 'M', 'N', 'O', 'P', \n",
    "     'Q', 'R', 'S', 'T', 'U', 'V', 'W', 'X', 'Y', 'Z']\n",
    "\n",
    "n = ['1','2','3','4','5','6','7','8','9','0']\n",
    "\n",
    "s = ['!','@','#','$','%','^','&','*','_','+','|','?','-','=','`','~']\n"
   ]
  },
  {
   "cell_type": "code",
   "execution_count": 3,
   "metadata": {},
   "outputs": [],
   "source": [
    "def gen_password(length=16):\n",
    "    \"\"\"Generates a random password and returns it in Byte format\"\"\"\n",
    "    pw = ''\n",
    "    for i in range(length):\n",
    "        li=choice([1,2,3,4])\n",
    "        if li == 1:\n",
    "            pw = pw+choice(l)\n",
    "        elif li == 2:\n",
    "            pw = pw+choice(u)\n",
    "        elif li == 3:\n",
    "            pw= pw+choice(n)\n",
    "        elif li == 4:\n",
    "            pw = pw+choice(s)\n",
    "    pw = pw.encode()\n",
    "    return pw"
   ]
  },
  {
   "cell_type": "code",
   "execution_count": 4,
   "metadata": {},
   "outputs": [],
   "source": [
    "def gen_private_key():\n",
    "    try:\n",
    "        \"\"\"tries to read the encrypted private key file; if not able to find a private key file it generates one \n",
    "        and encrypts it with the symmetric key\"\"\"\n",
    "        f=open(\"private_keys.txt\",\"r\")\n",
    "        file = f.read()\n",
    "        f.close()\n",
    "    except:\n",
    "        key = RSA.generate(4096)\n",
    "        private_key = key.exportKey(\"PEM\")\n",
    "        private_key=sym_key.encrypt(private_key)\n",
    "        f=open(\"private_keys.txt\",\"w\")\n",
    "        f.write(private_key.decode())\n",
    "        f.close()"
   ]
  },
  {
   "cell_type": "code",
   "execution_count": null,
   "metadata": {},
   "outputs": [],
   "source": [
    "\n"
   ]
  },
  {
   "cell_type": "code",
   "execution_count": null,
   "metadata": {},
   "outputs": [],
   "source": []
  },
  {
   "cell_type": "code",
   "execution_count": 5,
   "metadata": {},
   "outputs": [],
   "source": [
    "def key_gen():\n",
    "    \"\"\"Takes the master passwrod as the input and returns the Fernet class of the key\"\"\"\n",
    "    master_pw = str(input(\"Enter your master password- \"))\n",
    "    master_pw=master_pw.encode()\n",
    "    mysalt = b'V\\xd4\\xc2\\xe8\\xd5_\\xae\\x92\\xdf\\xf8\\xc1#\\xda\\xa4\\xb5L'\n",
    "    kdf = PBKDF2HMAC( algorithm=hashes.SHA256,length=32,salt=mysalt,iterations=1000000, backend=default_backend())\n",
    "    key = base64.urlsafe_b64encode(kdf.derive(master_pw)).decode()\n",
    "    return Fernet(key.encode())"
   ]
  },
  {
   "cell_type": "code",
   "execution_count": 6,
   "metadata": {},
   "outputs": [],
   "source": [
    "def decrypt_private_key():\n",
    "    \"\"\"Reads the encrypted private key file; decrypts and serializes it and returns the serialized private key\"\"\"\n",
    "    f=open(\"private_keys.txt\",\"r\")\n",
    "    file = f.read()\n",
    "    f.close()\n",
    "    private_key = serialization.load_pem_private_key(sym_key.decrypt(file.encode()), \n",
    "                                                     password=None, \n",
    "                                                     backend=default_backend())\n",
    "    return private_key\n"
   ]
  },
  {
   "cell_type": "code",
   "execution_count": 7,
   "metadata": {},
   "outputs": [],
   "source": [
    "def encrypt_password(password):\n",
    "    \"\"\"Takes in the randomly generated password and uses the public key to encrypt it.\n",
    "    Returns the encrypted password as Bytes\"\"\"\n",
    "    public_key = private_key.public_key()\n",
    "    cipher_mess = public_key.encrypt(password,\n",
    "                                     padding.OAEP(\n",
    "                                         mgf=padding.MGF1(algorithm=hashes.SHA256()),\n",
    "                                    algorithm = hashes.SHA256(),\n",
    "                                    label=None))\n",
    "    return cipher_mess\n"
   ]
  },
  {
   "cell_type": "code",
   "execution_count": 8,
   "metadata": {},
   "outputs": [],
   "source": [
    "def decrypt_password(cipher_mess):\n",
    "    \"\"\"Uses the passed encrypted chipher text in as string\"\"\"\n",
    "    plain_text = private_key.decrypt(cipher_mess,\n",
    "                                     padding.OAEP(\n",
    "                                         mgf=padding.MGF1(algorithm=hashes.SHA256()),\n",
    "                                    algorithm = hashes.SHA256(),\n",
    "                                    label=None))\n",
    "    return plain_text"
   ]
  },
  {
   "cell_type": "code",
   "execution_count": 9,
   "metadata": {},
   "outputs": [],
   "source": [
    "def write_file(filename):\n",
    "    \"\"\"Enter the filename it wants to write as a positional argument\"\"\"\n",
    "    p = open(f\"{filename}.txt\",\"wb\")\n",
    "    p.write(cipher_password)\n",
    "    p.close()"
   ]
  },
  {
   "cell_type": "code",
   "execution_count": 10,
   "metadata": {},
   "outputs": [],
   "source": [
    "def read_file(filename):\n",
    "    \"\"\"Enter the filename it wants to read as an argument and returns it\"\"\"\n",
    "    p = open(f\"{filename}.txt\",\"rb\")\n",
    "    file = p.read()\n",
    "    p.close()\n",
    "    return file"
   ]
  },
  {
   "cell_type": "code",
   "execution_count": 12,
   "metadata": {},
   "outputs": [
    {
     "name": "stdout",
     "output_type": "stream",
     "text": [
      "Do you want to generate a password(g) or read an already existing one(r)? g\n",
      "Name of the site you creating the password for- me\n",
      "This is the password- -1XkU`R~RN|Ga6R~\n",
      "Are you okay with the password? (Y/N)-y\n",
      "Enter your master password- Iluvfootball,cr7\n",
      "Do you want to exist? n\n",
      "Do you want to generate a password(g) or read an already existing one(r)? r\n",
      "Enter your master password- Iluvfootball,cr7\n",
      "Name of the site you want the see the password of- me\n",
      "-1XkU`R~RN|Ga6R~\n",
      "Do you want to exist? y\n"
     ]
    }
   ],
   "source": [
    "while True:\n",
    "    mode = str(input(\"Do you want to generate a password(g) or read an already existing one(r)? \"))\n",
    "    if mode.lower() == 'g':\n",
    "        filename = str(input(\"Name of the site you creating the password for- \"))\n",
    "        while True:\n",
    "            password = gen_password()\n",
    "            print(f\"This is the password- {password.decode()}\")\n",
    "            confirm = str(input(\"Are you okay with the password? (Y/N)-\"))\n",
    "            if 'y' in confirm.lower():\n",
    "                break\n",
    "        \n",
    "        while True:\n",
    "            try:\n",
    "                sym_key=key_gen()\n",
    "                gen_private_key()\n",
    "                private_key=decrypt_private_key()\n",
    "            except:\n",
    "                print(\"The password you have given is the wrong password or the private key file is corrupted/wrong\")\n",
    "            else:\n",
    "                break\n",
    "        cipher_password=encrypt_password(password=password)\n",
    "        write_file(filename=filename)\n",
    "        exit = str(input(\"Do you want to exist? \"))\n",
    "        if 'y' in exit.lower():\n",
    "            break\n",
    "    elif mode.lower()=='r':\n",
    "        while True:\n",
    "            try:\n",
    "                sym_key=key_gen()\n",
    "                gen_private_key()\n",
    "                private_key=decrypt_private_key()\n",
    "            except:\n",
    "                print(\"The password you have given is the wrong password or the private key file is corrupted/wrong\")\n",
    "            else:\n",
    "                break\n",
    "        while True:\n",
    "            try:\n",
    "                filename=str(input(\"Name of the site you want the see the password of- \"))\n",
    "                file = read_file(filename=filename)\n",
    "                print(decrypt_password(file).decode())\n",
    "            except:\n",
    "                print(\"There was an error pls check the site name\")\n",
    "            else:\n",
    "                break\n",
    "        exit = str(input(\"Do you want to exist? \"))\n",
    "        \n",
    "        if 'y' in exit.lower():\n",
    "            break"
   ]
  },
  {
   "cell_type": "code",
   "execution_count": null,
   "metadata": {},
   "outputs": [],
   "source": []
  }
 ],
 "metadata": {
  "kernelspec": {
   "display_name": "Python 3",
   "language": "python",
   "name": "python3"
  },
  "language_info": {
   "codemirror_mode": {
    "name": "ipython",
    "version": 3
   },
   "file_extension": ".py",
   "mimetype": "text/x-python",
   "name": "python",
   "nbconvert_exporter": "python",
   "pygments_lexer": "ipython3",
   "version": "3.7.4"
  }
 },
 "nbformat": 4,
 "nbformat_minor": 2
}
